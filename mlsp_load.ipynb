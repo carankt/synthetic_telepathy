{
 "cells": [
  {
   "cell_type": "markdown",
   "id": "3d0f5c24-44dc-4192-9667-76c4f909c178",
   "metadata": {
    "id": "67d93716"
   },
   "source": [
    "## Statistical Data Analysis"
   ]
  },
  {
   "cell_type": "code",
   "execution_count": 1,
   "id": "b5fa9bde",
   "metadata": {
    "id": "b5fa9bde"
   },
   "outputs": [],
   "source": [
    "from dataloader import get_loader\n",
    "# root = '/Volumes/Datasets/inner_speech/derivatives/'\n",
    "root =  'dataset/derivatives/' # -sil\n",
    "creater = get_loader(root)\n",
    "xn, yn = creater.load_multiple_subjects([1, 2, 3, 4, 5, 6, 7, 8])"
   ]
  },
  {
   "cell_type": "code",
   "execution_count": 2,
   "id": "b999bd12",
   "metadata": {
    "id": "b999bd12",
    "scrolled": true
   },
   "outputs": [
    {
     "data": {
      "text/plain": [
       "(1240, 128, 1153)"
      ]
     },
     "execution_count": 2,
     "metadata": {},
     "output_type": "execute_result"
    }
   ],
   "source": [
    "xn.shape"
   ]
  },
  {
   "cell_type": "code",
   "execution_count": 3,
   "id": "bf180645-3ed9-48fe-a06e-57e57bb4cb02",
   "metadata": {},
   "outputs": [
    {
     "data": {
      "text/plain": [
       "(1240, 4)"
      ]
     },
     "execution_count": 3,
     "metadata": {},
     "output_type": "execute_result"
    }
   ],
   "source": [
    "yn.shape"
   ]
  },
  {
   "cell_type": "code",
   "execution_count": 3,
   "id": "b7d9de65-5ec4-4462-b429-7ed5f648eb64",
   "metadata": {},
   "outputs": [],
   "source": []
  },
  {
   "cell_type": "code",
   "execution_count": 3,
   "id": "3dfc7d2e-dd7c-4eb8-8284-bd3b7ccc153f",
   "metadata": {},
   "outputs": [],
   "source": []
  },
  {
   "cell_type": "code",
   "execution_count": 3,
   "id": "c8c86b4b",
   "metadata": {
    "id": "c8c86b4b",
    "outputId": "33082841-a159-4b07-9931-0505beedeafd"
   },
   "outputs": [],
   "source": []
  },
  {
   "cell_type": "code",
   "execution_count": 3,
   "id": "f8a01fb7",
   "metadata": {
    "id": "f8a01fb7",
    "outputId": "a4537c66-b483-4fcd-8c3b-ea92f1c7732b"
   },
   "outputs": [],
   "source": []
  },
  {
   "cell_type": "code",
   "execution_count": 3,
   "id": "4ce2c4f5",
   "metadata": {
    "id": "4ce2c4f5",
    "outputId": "a8d411c1-542d-42cc-f21d-6b67520d05da"
   },
   "outputs": [],
   "source": []
  },
  {
   "cell_type": "markdown",
   "id": "7fc6030a",
   "metadata": {
    "id": "7fc6030a"
   },
   "source": [
    "## Data Loader strategy\n",
    "\n",
    "### 1. Load all data of a subject in session 1 and session 2 (dont load 3, because noisy)\n",
    "### 2. select only inner speech Y[:, 2] ==1\n",
    "### 3. Stack all subjects recordings along batch axis = 0 (n_recording * n_subjects, 128, 1153)"
   ]
  },
  {
   "cell_type": "code",
   "execution_count": 3,
   "id": "828cdcd2",
   "metadata": {
    "id": "828cdcd2"
   },
   "outputs": [],
   "source": []
  },
  {
   "cell_type": "markdown",
   "id": "240dbcec",
   "metadata": {
    "id": "240dbcec"
   },
   "source": [
    "## Clustering"
   ]
  },
  {
   "cell_type": "code",
   "execution_count": 4,
   "id": "41563986",
   "metadata": {
    "id": "41563986"
   },
   "outputs": [],
   "source": [
    "import sklearn\n",
    "from sklearn.preprocessing import StandardScaler\n",
    "from sklearn.cluster import KMeans\n",
    "from sklearn.decomposition import PCA"
   ]
  },
  {
   "cell_type": "code",
   "execution_count": 5,
   "id": "09561973",
   "metadata": {
    "id": "09561973"
   },
   "outputs": [],
   "source": [
    "creater = get_loader(root)\n",
    "#loader = creater([1, 2])"
   ]
  },
  {
   "cell_type": "code",
   "execution_count": 6,
   "id": "e6daaecb",
   "metadata": {
    "id": "e6daaecb"
   },
   "outputs": [],
   "source": [
    "xn, yn = creater.load_multiple_subjects([1, 2, 3, 4, 5, 6, 7, 8]) "
   ]
  },
  {
   "cell_type": "code",
   "execution_count": 7,
   "id": "a1950be0",
   "metadata": {
    "id": "a1950be0",
    "outputId": "706a76a8-20d4-46cc-a9c1-03e030ddef7c"
   },
   "outputs": [
    {
     "name": "stdout",
     "output_type": "stream",
     "text": [
      "(1240, 147584)\n"
     ]
    }
   ],
   "source": [
    "X = xn.reshape(-1, 128*1153)\n",
    "print(X.shape)"
   ]
  },
  {
   "cell_type": "code",
   "execution_count": 7,
   "id": "779db717-4607-41f7-972e-28c33811eb47",
   "metadata": {},
   "outputs": [],
   "source": []
  },
  {
   "cell_type": "markdown",
   "id": "52ff68ef",
   "metadata": {
    "id": "52ff68ef"
   },
   "source": [
    "### PCA transform"
   ]
  },
  {
   "cell_type": "code",
   "execution_count": null,
   "id": "989fbf09",
   "metadata": {
    "id": "989fbf09",
    "outputId": "602a8e69-f323-40e6-8285-8ec03a46fc94",
    "pycharm": {
     "is_executing": true
    }
   },
   "outputs": [],
   "source": [
    "var = 0.98\n",
    "pca = PCA(var)\n",
    "pca.fit(X)"
   ]
  },
  {
   "cell_type": "code",
   "execution_count": null,
   "id": "f4b175f3",
   "metadata": {
    "id": "f4b175f3",
    "outputId": "3d8f980c-34a3-44cb-e756-3f15d37d2b01",
    "pycharm": {
     "is_executing": true
    }
   },
   "outputs": [],
   "source": [
    "print(\"Number of components before PCA  = \" + str(X.shape[1]))\n",
    "print(\"Number of components after PCA 0.98 = \" + str(pca.n_components_))"
   ]
  },
  {
   "cell_type": "code",
   "execution_count": null,
   "id": "75dc7b03",
   "metadata": {
    "id": "75dc7b03",
    "outputId": "e616e05a-2702-4690-a8bd-1ee76e23b4a9",
    "pycharm": {
     "is_executing": true
    }
   },
   "outputs": [],
   "source": [
    "Clus_dataSet = pca.transform(X)\n",
    "print(\"Dimension of our data after PCA = \" + str(Clus_dataSet.shape))\n"
   ]
  },
  {
   "cell_type": "markdown",
   "id": "5fc945fa",
   "metadata": {
    "id": "5fc945fa"
   },
   "source": [
    "### Kmeans clustering"
   ]
  },
  {
   "cell_type": "code",
   "execution_count": null,
   "id": "5f663e58",
   "metadata": {
    "id": "5f663e58",
    "outputId": "e92f1850-cd4c-4baf-85b8-aba14fc55379",
    "pycharm": {
     "is_executing": true
    }
   },
   "outputs": [],
   "source": [
    "k_means = KMeans(init = \"k-means++\", n_clusters = 4, n_init = 10)\n",
    "k_means.fit(Clus_dataSet)"
   ]
  },
  {
   "cell_type": "code",
   "execution_count": null,
   "id": "1ffa0ac4",
   "metadata": {
    "id": "1ffa0ac4",
    "outputId": "267131b3-6bed-459b-8397-6aa8ed01e1d7",
    "pycharm": {
     "is_executing": true
    }
   },
   "outputs": [],
   "source": [
    "k_means_labels = k_means.predict(Clus_dataSet)\n",
    "k_means_labels"
   ]
  },
  {
   "cell_type": "code",
   "execution_count": null,
   "id": "6ab1833f",
   "metadata": {
    "id": "6ab1833f",
    "outputId": "889cdddf-4b34-483f-85ce-c78efc29c8c1",
    "pycharm": {
     "is_executing": true
    }
   },
   "outputs": [],
   "source": [
    "yn[:, 1]"
   ]
  },
  {
   "cell_type": "markdown",
   "id": "ce74269b",
   "metadata": {
    "id": "ce74269b"
   },
   "source": [
    "# Frequency Analysis"
   ]
  },
  {
   "cell_type": "code",
   "execution_count": null,
   "id": "dc86042c",
   "metadata": {
    "id": "dc86042c",
    "pycharm": {
     "is_executing": true
    }
   },
   "outputs": [],
   "source": [
    "import numpy as np\n",
    "import matplotlib.pyplot as plt\n",
    "# Sort data based on classes\n",
    "labels = [\"Up\", \"Down\", \"Right\", \"Left\"] \n",
    "sorted_data = []\n",
    "fs = 254\n",
    "NFFT = 256\n",
    "classes = yn[:,1]\n",
    "for i in range(0,4):\n",
    "    mask = classes == i\n",
    "    data = xn[mask,:,:]\n",
    "    sorted_data.append(data)"
   ]
  },
  {
   "cell_type": "code",
   "execution_count": null,
   "id": "VtnH6VOM35aQ",
   "metadata": {
    "collapsed": true,
    "id": "VtnH6VOM35aQ",
    "pycharm": {
     "is_executing": true
    }
   },
   "outputs": [],
   "source": [
    "# Time Plots\n",
    "t = np.arange(0,1153) * 1/fs\n",
    "n = 5 # play with this and figsize to get better images\n",
    "fig, axs = plt.subplots(nrows=128, ncols=4, figsize=(6*n,150*n))\n",
    "for i in range(0,4):\n",
    "    label = labels[i]\n",
    "    data = sorted_data[i]\n",
    "    avg_trial = np.mean(data, axis=0)\n",
    "    for j in range(0,128):\n",
    "        axs[j,i].plot(t, avg_trial[j,:])\n",
    "        axs[j,i].set_title('Channel: {} Class: {}'.format(j,label))\n",
    "        axs[j,i].set_xlabel('Time')\n",
    "        axs[j,i].set_ylabel('Amplitude')\n",
    "plt.show()"
   ]
  },
  {
   "cell_type": "code",
   "execution_count": null,
   "id": "ec2dad3d",
   "metadata": {
    "pycharm": {
     "is_executing": true
    }
   },
   "outputs": [],
   "source": [
    "# Get time plots of channels of interest\n",
    "chs = np.array([79, 100])\n",
    "t = np.arange(0,1153) * 1/fs\n",
    "n = 5 # play with this and figsize to get better images\n",
    "fig, axs = plt.subplots(nrows=len(chs), ncols=4, figsize=(22,10))\n",
    "for i in range(0,4):\n",
    "    label = labels[i]\n",
    "    data = sorted_data[i]\n",
    "    avg_trial = np.mean(data, axis=0)\n",
    "    for j, ch in enumerate(chs):\n",
    "        axs[j,i].plot(t, avg_trial[ch,:])\n",
    "        axs[j,i].set_title('Channel: {} Class: {}'.format(ch,label))\n",
    "        axs[j,i].set_xlabel('Time (s)')\n",
    "        axs[j,i].set_ylabel('Amplitude')\n",
    "plt.subplots_adjust(hspace=.4)\n",
    "plt.show()"
   ]
  },
  {
   "cell_type": "code",
   "execution_count": null,
   "id": "JxG7OXeQ38Nj",
   "metadata": {
    "id": "JxG7OXeQ38Nj",
    "pycharm": {
     "is_executing": true
    }
   },
   "outputs": [],
   "source": [
    "# Average and Combined Time Plots\n",
    "# Average of all channels\n",
    "t = np.arange(0,1153) * 1/fs\n",
    "fig, axs = plt.subplots(nrows=2, ncols=2,figsize=(20,15))\n",
    "for i in range(0,4):\n",
    "    label = labels[i]\n",
    "    data = sorted_data[i]\n",
    "    avg_trial = np.mean(data, axis=0)\n",
    "    if i == 0:\n",
    "            r = 0\n",
    "            c = 0\n",
    "    elif i == 1:\n",
    "        r = 0\n",
    "        c = 1\n",
    "    elif i == 2:\n",
    "        r = 1\n",
    "        c = 0\n",
    "    elif i == 3:\n",
    "        r = 1\n",
    "        c = 1\n",
    "    for j in range(0,128):\n",
    "\n",
    "        axs[r,c].plot(t, avg_trial[j,:],'b')\n",
    "        \n",
    "    avg = np.mean(avg_trial,0)\n",
    "        \n",
    "    axs[r,c].plot(t, avg,'r', label='Average')\n",
    "    axs[r,c].set_title('Class: {}'.format(label))\n",
    "    axs[r,c].set_xlabel('Time (s)')\n",
    "    axs[r,c].set_ylabel('Amplitude')\n",
    "    axs[r,c].legend()\n"
   ]
  },
  {
   "cell_type": "code",
   "execution_count": null,
   "id": "e0e595bc",
   "metadata": {
    "pycharm": {
     "is_executing": true
    }
   },
   "outputs": [],
   "source": [
    "# Action Interval is between 1-3.5 seconds\n",
    "fs = 254\n",
    "start_idx = int(1*fs)\n",
    "end_idx = int(3.5*fs)\n"
   ]
  },
  {
   "cell_type": "code",
   "execution_count": null,
   "id": "E-nwkvVM3-L5",
   "metadata": {
    "id": "E-nwkvVM3-L5",
    "pycharm": {
     "is_executing": true
    }
   },
   "outputs": [],
   "source": [
    "# Spectrograms\n",
    "n = 4\n",
    "fig, axs = plt.subplots(nrows=128, ncols=4, figsize=(4*n,128*n))\n",
    "for i in range(0,4):\n",
    "    label = labels[i]\n",
    "    data = sorted_data[i]\n",
    "    avg_trial = np.mean(data, axis=0)\n",
    "    #avg_trial = avg_trial[:, start_idx:end_idx]\n",
    "    for j in range(0,128):\n",
    "        pxx,  freq, t, cax = axs[j,i].specgram(avg_trial[j,:], Fs=fs, cmap=\"rainbow\", mode='magnitude', NFFT=NFFT, noverlap=NFFT/2)\n",
    "        axs[j,i].set_title('Channel: {} Class: {}'.format(j,label))\n",
    "#fig.colorbar(cax)\n",
    "plt.show()"
   ]
  },
  {
   "cell_type": "code",
   "execution_count": null,
   "id": "097265d4",
   "metadata": {
    "pycharm": {
     "is_executing": true
    }
   },
   "outputs": [],
   "source": [
    "# # Get spectrograms of channels of interest\n",
    "# chs = np.array([79, 100])\n",
    "# t = np.arange(0,1153) * 1/fs\n",
    "# n = 5 # play with this and figsize to get better images\n",
    "# fig, axs = plt.subplots(nrows=len(chs), ncols=4, figsize=(22,10))\n",
    "# for i in range(0,4):\n",
    "#     label = labels[i]\n",
    "#     data = sorted_data[i]\n",
    "#     avg_trial = np.mean(data, axis=0)\n",
    "#     for j, ch in enumerate(chs):\n",
    "#         axs[j,i].plot(t, avg_trial[ch,:])\n",
    "#         axs[j,i].set_title('Channel: {} Class: {}'.format(ch,label))\n",
    "#         axs[j,i].set_xlabel('Time (s)')\n",
    "#         axs[j,i].set_ylabel('Amplitude')\n",
    "# plt.subplots_adjust(hspace=.4)\n",
    "# plt.show()\n",
    "\n",
    "chs = np.array([79, 100])\n",
    "fig, axs = plt.subplots(nrows=len(chs), ncols=4, figsize=(22,10))\n",
    "for i in range(0,4):\n",
    "    label = labels[i]\n",
    "    data = sorted_data[i]\n",
    "    avg_trial = np.mean(data, axis=0)\n",
    "    #avg_trial = avg_trial[:, start_idx:end_idx]\n",
    "    for j, ch in enumerate(chs):\n",
    "        pxx,  freq, t, cax = axs[j,i].specgram(avg_trial[ch,:], Fs=fs, cmap=\"rainbow\", mode='magnitude', NFFT=NFFT, noverlap=NFFT/2)\n",
    "        axs[j,i].set_title('Channel: {} Class: {}'.format(j,label))\n",
    "        axs[j,i].set_xlabel('Time (s)')\n",
    "        axs[j,i].set_ylabel(\"Frequency (HZ)\")\n",
    "#fig.colorbar(cax)\n",
    "plt.subplots_adjust(hspace=.4)\n",
    "plt.show()"
   ]
  },
  {
   "cell_type": "code",
   "execution_count": null,
   "id": "MCFCvZsg4AeM",
   "metadata": {
    "id": "MCFCvZsg4AeM",
    "pycharm": {
     "is_executing": true
    }
   },
   "outputs": [],
   "source": [
    "# Average Spectrograms\n",
    "# Average of all channels\n",
    "n = 4\n",
    "fig, axs = plt.subplots(nrows=2, ncols=2, figsize=(20,15))\n",
    "for i in range(0,4):\n",
    "    if i == 0:\n",
    "        r = 0\n",
    "        c = 0\n",
    "    elif i == 1:\n",
    "        r = 0\n",
    "        c = 1\n",
    "    elif i == 2:\n",
    "        r = 1\n",
    "        c = 0\n",
    "    elif i == 3:\n",
    "        r = 1\n",
    "        c = 1\n",
    "    label = labels[i]\n",
    "    data = sorted_data[i]\n",
    "    avg_trial = np.mean(data, axis=0)\n",
    "    avg = np.mean(avg_trial, axis=0)\n",
    "    pxx,  freq, t, cax = axs[r,c].specgram(avg, Fs=fs, cmap=\"rainbow\", mode='magnitude', NFFT=NFFT, noverlap=NFFT/2)\n",
    "    axs[r,c].set_title('Class: {}'.format(label))\n",
    "    axs[r,c].set_xlabel('Time (s)')\n",
    "    axs[r,c].set_ylabel('Frequency (Hz)')\n",
    "#fig.colorbar(cax)\n",
    "plt.show()"
   ]
  },
  {
   "cell_type": "code",
   "execution_count": null,
   "id": "7aed11eb",
   "metadata": {
    "pycharm": {
     "is_executing": true,
     "name": "#%%\n"
    }
   },
   "outputs": [],
   "source": [
    "i = 0\n",
    "label = labels[i]\n",
    "data = sorted_data[i]\n",
    "avg_trial = np.mean(data, axis=0)\n",
    "avg = np.mean(avg_trial, axis=0)\n",
    "\n",
    "\n",
    "fig, ax = plt.subplots()\n",
    "pxx,  freq, t, cax = ax.specgram(avg, Fs=fs, cmap=\"rainbow\", mode='magnitude', NFFT=NFFT, noverlap=NFFT/2)\n",
    "ax.set_title('Class: {}'.format(label))\n",
    "ax.set_xlabel('Time (s)')\n",
    "ax.set_ylabel('Frequency (Hz)')\n",
    "fig.colorbar(cax).set_label('Intensity [dB]')\n",
    "\n",
    "plt.show()"
   ]
  },
  {
   "cell_type": "code",
   "execution_count": null,
   "id": "1f8dd163",
   "metadata": {
    "pycharm": {
     "is_executing": true,
     "name": "#%%\n"
    }
   },
   "outputs": [],
   "source": [
    "# Power Spectral Density Plots\n",
    "n = 5\n",
    "fig, axs = plt.subplots(nrows=128, ncols=4, figsize=(6*n,150*n))\n",
    "for i in range(0,4):\n",
    "    label = labels[i]\n",
    "    data = sorted_data[i]\n",
    "    avg_trial = np.mean(data, axis=0)\n",
    "    avg_trial = avg_trial[:, start_idx:end_idx]\n",
    "    for j in range(0,128):\n",
    "        pxx, freqs = axs[j,i].psd(avg_trial[j,:], Fs=fs,NFFT=NFFT, noverlap=NFFT/2, scale_by_freq=False)\n",
    "        axs[j,i].set_title('Channel: {} Class: {}'.format(j,label))\n",
    "\n",
    "plt.show()"
   ]
  },
  {
   "cell_type": "code",
   "execution_count": null,
   "id": "bf6d7722",
   "metadata": {
    "pycharm": {
     "is_executing": true,
     "name": "#%%\n"
    }
   },
   "outputs": [],
   "source": [
    "# Average PSDs\n",
    "# Average of all channels\n",
    "n = 4\n",
    "fs = 254\n",
    "start_idx = int(1*fs)\n",
    "end_idx = int(3.5*fs)\n",
    "fig, axs = plt.subplots(nrows=2, ncols=2, figsize=(20,15))\n",
    "for i in range(0,4):\n",
    "    if i == 0:\n",
    "        r = 0\n",
    "        c = 0\n",
    "    elif i == 1:\n",
    "        r = 0\n",
    "        c = 1\n",
    "    elif i == 2:\n",
    "        r = 1\n",
    "        c = 0\n",
    "    elif i == 3:\n",
    "        r = 1\n",
    "        c = 1\n",
    "    label = labels[i]\n",
    "    data = sorted_data[i]\n",
    "    avg_trial = np.mean(data, axis=0)\n",
    "    avg_trial = avg_trial[:, start_idx:end_idx]\n",
    "    pows = 1\n",
    "    pows = np.zeros((128,len(pxx)))\n",
    "    for j in range(0,128):\n",
    "        pxx, freqs = axs[r,c].psd(avg_trial[j,:], Fs=fs,NFFT=NFFT, noverlap=NFFT/2, scale_by_freq=False, c='b')\n",
    "        pows[j,:] = pxx\n",
    "    \n",
    "    avg = np.mean(avg_trial, axis=0)\n",
    "    #avg = np.mean(pows, axis=0)\n",
    "    #axs[i].plot(freqs, avg, 'r', label=\"Average\")\n",
    "    axs[r,c].psd(avg, Fs=fs,NFFT=NFFT, noverlap=NFFT/4, scale_by_freq=False, c='r', label=\"Average\")\n",
    "    axs[r,c].set_title('Class: {}'.format(label))\n",
    "    axs[r,c].legend()\n",
    "    \n",
    "\n",
    "plt.show()"
   ]
  },
  {
   "cell_type": "code",
   "execution_count": null,
   "id": "a467340f",
   "metadata": {
    "pycharm": {
     "is_executing": true
    }
   },
   "outputs": [],
   "source": []
  },
  {
   "cell_type": "code",
   "execution_count": null,
   "id": "VjBLhKSA4DRa",
   "metadata": {
    "id": "VjBLhKSA4DRa",
    "pycharm": {
     "is_executing": true
    }
   },
   "outputs": [],
   "source": [
    "# Power Spectral Density Plots\n",
    "n = 5\n",
    "fig, axs = plt.subplots(nrows=128, ncols=4, figsize=(6*n,150*n))\n",
    "for i in range(0,4):\n",
    "    label = labels[i]\n",
    "    data = sorted_data[i]\n",
    "    avg_trial = np.mean(data, axis=0)\n",
    "    avg_trial = avg_trial[:, start_idx:end_idx]\n",
    "    for j in range(0,128):\n",
    "        pxx, freqs = axs[j,i].psd(avg_trial[j,:], Fs=fs,NFFT=NFFT, noverlap=NFFT/2, scale_by_freq=False)\n",
    "        axs[j,i].set_title('Channel: {} Class: {}'.format(j,label))\n",
    "\n",
    "plt.show()"
   ]
  },
  {
   "cell_type": "code",
   "execution_count": null,
   "id": "K4zIOS2z4JUq",
   "metadata": {
    "id": "K4zIOS2z4JUq",
    "pycharm": {
     "is_executing": true,
     "name": "#%%\n"
    },
    "scrolled": true
   },
   "outputs": [],
   "source": [
    "# Average PSDs\n",
    "# Average of all channels\n",
    "n = 4\n",
    "fs = 254\n",
    "start_idx = int(1*fs)\n",
    "end_idx = int(3.5*fs)\n",
    "fig, axs = plt.subplots(nrows=2, ncols=2, figsize=(20,15))\n",
    "for i in range(0,4):\n",
    "    if i == 0:\n",
    "        r = 0\n",
    "        c = 0\n",
    "    elif i == 1:\n",
    "        r = 0\n",
    "        c = 1\n",
    "    elif i == 2:\n",
    "        r = 1\n",
    "        c = 0\n",
    "    elif i == 3:\n",
    "        r = 1\n",
    "        c = 1\n",
    "    label = labels[i]\n",
    "    data = sorted_data[i]\n",
    "    avg_trial = np.mean(data, axis=0)\n",
    "    avg_trial = avg_trial[:, start_idx:end_idx]\n",
    "    pows = 1\n",
    "    pows = np.zeros((128,len(pxx)))\n",
    "    for j in range(0,128):\n",
    "        pxx, freqs = axs[r,c].psd(avg_trial[j,:], Fs=fs,NFFT=NFFT, noverlap=NFFT/2, scale_by_freq=False, c='b')\n",
    "        pows[j,:] = pxx\n",
    "    \n",
    "    avg = np.mean(avg_trial, axis=0)\n",
    "    #avg = np.mean(pows, axis=0)\n",
    "    #axs[i].plot(freqs, avg, 'r', label=\"Average\")\n",
    "    axs[r,c].psd(avg, Fs=fs,NFFT=NFFT, noverlap=NFFT/4, scale_by_freq=False, c='r', label=\"Average\")\n",
    "    axs[r,c].set_title('Class: {}'.format(label))\n",
    "    axs[r,c].legend()\n",
    "    \n",
    "\n",
    "plt.show()\n",
    "\n"
   ]
  }
 ],
 "metadata": {
  "colab": {
   "name": "mlsp_load.ipynb",
   "provenance": []
  },
  "kernelspec": {
   "display_name": "Python 3",
   "language": "python",
   "name": "python3"
  },
  "language_info": {
   "codemirror_mode": {
    "name": "ipython",
    "version": 3
   },
   "file_extension": ".py",
   "mimetype": "text/x-python",
   "name": "python",
   "nbconvert_exporter": "python",
   "pygments_lexer": "ipython3",
   "version": "3.8.8"
  }
 },
 "nbformat": 4,
 "nbformat_minor": 5
}