{
 "cells": [
  {
   "cell_type": "code",
   "execution_count": 3,
   "metadata": {
    "pycharm": {
     "is_executing": true,
     "name": "#%%\n"
    }
   },
   "outputs": [],
   "source": [
    "from dataloader import get_loader\n",
    "import numpy as np\n",
    "from sklearn.discriminant_analysis import LinearDiscriminantAnalysis\n",
    "\n"
   ]
  },
  {
   "cell_type": "code",
   "execution_count": 2,
   "metadata": {
    "pycharm": {
     "name": "#%%\n"
    }
   },
   "outputs": [],
   "source": [
    "# Load in data\n",
    "# root = '/Volumes/Datasets/inner_speech/derivatives/'\n",
    "root =  'dataset/derivatives/' # -sil\n",
    "creater = get_loader(root)\n",
    "xn, yn = creater.load_multiple_subjects([1, 2, 3, 4, 5, 6, 7])\n",
    "xt, yt = creater.load_single_subject(8)"
   ]
  },
  {
   "cell_type": "markdown",
   "metadata": {
    "collapsed": true,
    "pycharm": {
     "name": "#%% md\n"
    }
   },
   "source": [
    "# LDA"
   ]
  },
  {
   "cell_type": "code",
   "execution_count": 6,
   "metadata": {
    "pycharm": {
     "name": "#%%\n"
    }
   },
   "outputs": [
    {
     "name": "stdout",
     "output_type": "stream",
     "text": [
      "train_x:  (1080, 147584)\n",
      "test_x:  (160, 147584)\n",
      "train_y:  (1080,)\n",
      "test_y:  (160,)\n"
     ]
    }
   ],
   "source": [
    "# Vectorize data so that X is of size = (n_samples, n_features)\n",
    "train_x = xn.reshape(xn.shape[0], xn.shape[1]*xn.shape[2])\n",
    "test_x = xt.reshape(xt.shape[0], xt.shape[1]*xt.shape[2])\n",
    "print(\"train_x: \", train_x.shape)\n",
    "print(\"test_x: \", test_x.shape)\n",
    "\n",
    "\n",
    "# Get Labels\n",
    "train_y = yn[:,1]\n",
    "test_y = yt[:,1]\n",
    "print(\"train_y: \", train_y.shape)\n",
    "print(\"test_y: \", test_y.shape)"
   ]
  },
  {
   "cell_type": "code",
   "execution_count": null,
   "metadata": {
    "pycharm": {
     "name": "#%%\n"
    }
   },
   "outputs": [],
   "source": [
    "# Fit LDA\n",
    "# solver='svd', shrinkage=None, priors=None, n_components=None, store_covariance=False, tol=0.0001, covariance_estimator=None\n",
    "clf = LinearDiscriminantAnalysis(solver='svd')\n",
    "clf.fit(train_x, train_y)\n",
    "\n"
   ]
  },
  {
   "cell_type": "code",
   "execution_count": 12,
   "metadata": {
    "pycharm": {
     "name": "#%%\n"
    }
   },
   "outputs": [
    {
     "name": "stdout",
     "output_type": "stream",
     "text": [
      "Accuracy:  29.375\n"
     ]
    }
   ],
   "source": [
    "# Predict on test data\n",
    "predicitons = clf.predict(test_x) \n",
    "accuracy = clf.score(test_x, test_y) \n",
    "print(\"Accuracy: \", accuracy*100)"
   ]
  },
  {
   "cell_type": "code",
   "execution_count": 14,
   "metadata": {
    "pycharm": {
     "name": "#%%\n"
    }
   },
   "outputs": [
    {
     "data": {
      "text/plain": [
       "(160, 3)"
      ]
     },
     "execution_count": 14,
     "metadata": {},
     "output_type": "execute_result"
    }
   ],
   "source": [
    "# Tranform data to LDA space\n",
    "transformed_xt = clf.transform(test_x)\n",
    "transformed_xt.shape"
   ]
  },
  {
   "cell_type": "code",
   "execution_count": null,
   "metadata": {},
   "outputs": [],
   "source": []
  }
 ],
 "metadata": {
  "kernelspec": {
   "display_name": "Python 3 (ipykernel)",
   "language": "python",
   "name": "python3"
  },
  "language_info": {
   "codemirror_mode": {
    "name": "ipython",
    "version": 3
   },
   "file_extension": ".py",
   "mimetype": "text/x-python",
   "name": "python",
   "nbconvert_exporter": "python",
   "pygments_lexer": "ipython3",
   "version": "3.8.12"
  }
 },
 "nbformat": 4,
 "nbformat_minor": 1
}