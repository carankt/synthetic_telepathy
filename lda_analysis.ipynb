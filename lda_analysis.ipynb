{
 "cells": [
  {
   "cell_type": "code",
   "execution_count": 15,
   "metadata": {
    "pycharm": {
     "name": "#%%\n"
    }
   },
   "outputs": [],
   "source": [
    "from dataloader import get_loader\n",
    "import numpy as np\n",
    "from sklearn.discriminant_analysis import LinearDiscriminantAnalysis\n",
    "import matplotlib.pyplot as plt\n",
    "import numpy as np\n",
    "import matplotlib.pyplot as plt\n",
    "import mne\n",
    "import pickle\n",
    "import torch \n",
    "import torch.nn as nn\n",
    "from torch.utils.data import DataLoader, Subset, TensorDataset, RandomSampler\n",
    "\n"
   ]
  },
  {
   "cell_type": "code",
   "execution_count": 16,
   "metadata": {},
   "outputs": [],
   "source": [
    "class get_loader(nn.Module):\n",
    "    \n",
    "    def __init__(self, root_dir, n_sess = 2, mode = 1):\n",
    "        '''\n",
    "        root_dir: the main folder with subject-wise subfolders\n",
    "        n_sess:   number of sessions to consider. 1/2/3\n",
    "        mode:     0-pronounced \n",
    "                  1-inner \n",
    "                  2-visualized\n",
    "                  \n",
    "        '''\n",
    "        super(get_loader, self).__init__()\n",
    "        self.root_dir = root_dir\n",
    "        self.n_sess = n_sess\n",
    "        self.mode = mode #condition\n",
    "        \n",
    "    def load_single_subject(self, sub_idx):\n",
    "        '''\n",
    "        sub_idx: 1, 2, ..... integers\n",
    "        '''\n",
    "        data = dict()\n",
    "        y = dict()\n",
    "        N_B_arr = np.arange(1, self.n_sess+1, 1)\n",
    "        N_S = sub_idx\n",
    "        print(N_S)\n",
    "        for N_B in N_B_arr:\n",
    "            \n",
    "            # name correction if N_Subj is less than 10\n",
    "            if N_S<10:\n",
    "                Num_s='sub-0'+str(N_S)\n",
    "            else:\n",
    "                Num_s='sub-'+str(N_S)\n",
    "            \n",
    "            file_name = root  + Num_s + '/ses-0'+ str(N_B) + '/' +Num_s+'_ses-0'+str(N_B)+'_events.dat'\n",
    "            y[N_B] = np.load(file_name,allow_pickle=True)\n",
    "        \n",
    "        \n",
    "            #  load data and events\n",
    "            file_name = root  + Num_s + '/ses-0'+ str(N_B) + '/' +Num_s+'_ses-0'+str(N_B)+'_eeg-epo.fif'\n",
    "            X= mne.read_epochs(file_name,verbose='WARNING')\n",
    "            data[N_B]= X._data    \n",
    "         \n",
    "        #stack the sessions\n",
    "        X = data.get(1)\n",
    "        Y = y.get(1)\n",
    "        for i in range(2, self.n_sess+1, 1):\n",
    "            X = np.vstack((X, data.get(i)))\n",
    "            Y = np.vstack((Y, y.get(i)))\n",
    "        \n",
    "        #select the recordings from required mode only\n",
    "        X_mode = X[Y[:,2] == self.mode]\n",
    "        Y_mode = Y[Y[:, 2] == self.mode]\n",
    "        \n",
    "        return X_mode, Y_mode\n",
    "    \n",
    "    def load_multiple_subjects(self, subjects):\n",
    "        '''\n",
    "        Load all subjects required and stack them into single array (n_rec*n_sub, 128, 1153)\n",
    "        '''\n",
    "        X_t, Y_t = [], []\n",
    "        for idx in subjects:\n",
    "            Xi, Yi = self.load_single_subject(idx)\n",
    "            X_t.append(Xi)\n",
    "            Y_t.append(Yi)\n",
    "    \n",
    "        return np.vstack(X_t), np.vstack(Y_t)\n",
    "    \n",
    "    def forward(self, subjects, batch_size = 1):\n",
    "        '''\n",
    "        subjects: list of subject indices to load data from\n",
    "        '''\n",
    "        X, Y = self.load_multiple_subjects(subjects)\n",
    "        X = torch.tensor(X)\n",
    "        Y = torch.tensor(Y)\n",
    "        \n",
    "        train_data = TensorDataset(X, Y)\n",
    "        train_sampler = RandomSampler(X)\n",
    "        train_dataloader = DataLoader(X, sampler=train_sampler, batch_size=batch_size)\n",
    "                  \n",
    "        # can add test/validation loader too \n",
    "        \n",
    "        return train_dataloader"
   ]
  },
  {
   "cell_type": "code",
   "execution_count": 18,
   "metadata": {
    "pycharm": {
     "name": "#%%\n"
    }
   },
   "outputs": [
    {
     "name": "stdout",
     "output_type": "stream",
     "text": [
      "1\n",
      "2\n",
      "3\n",
      "4\n",
      "5\n",
      "6\n",
      "7\n",
      "8\n"
     ]
    }
   ],
   "source": [
    "# Load in data\n",
    "# root = '/Volumes/Datasets/inner_speech/derivatives/'\n",
    "root = 'dataset/derivatives/' # -sil\n",
    "creater = get_loader(root)\n",
    "xn, yn = creater.load_multiple_subjects([1, 2, 3, 4, 5, 6, 7, 8])\n"
   ]
  },
  {
   "cell_type": "code",
   "execution_count": 19,
   "metadata": {},
   "outputs": [
    {
     "name": "stdout",
     "output_type": "stream",
     "text": [
      "10\n"
     ]
    }
   ],
   "source": [
    "xt, yt = creater.load_single_subject(10)"
   ]
  },
  {
   "cell_type": "markdown",
   "metadata": {
    "collapsed": true,
    "pycharm": {
     "name": "#%% md\n"
    }
   },
   "source": [
    "# LDA"
   ]
  },
  {
   "cell_type": "code",
   "execution_count": 20,
   "metadata": {
    "pycharm": {
     "name": "#%%\n"
    }
   },
   "outputs": [
    {
     "name": "stdout",
     "output_type": "stream",
     "text": [
      "train_x:  (1240, 147584)\n",
      "test_x:  (160, 147584)\n",
      "train_y:  (1240,)\n",
      "test_y:  (160,)\n"
     ]
    }
   ],
   "source": [
    "# Vectorize data so that X is of size = (n_samples, n_features)\n",
    "train_x = xn.reshape(xn.shape[0], xn.shape[1]*xn.shape[2])\n",
    "test_x = xt.reshape(xt.shape[0], xt.shape[1]*xt.shape[2])\n",
    "print(\"train_x: \", train_x.shape)\n",
    "print(\"test_x: \", test_x.shape)\n",
    "\n",
    "\n",
    "# Get Labels\n",
    "train_y = yn[:,1]\n",
    "test_y = yt[:,1]\n",
    "print(\"train_y: \", train_y.shape)\n",
    "print(\"test_y: \", test_y.shape)"
   ]
  },
  {
   "cell_type": "code",
   "execution_count": 21,
   "metadata": {
    "pycharm": {
     "name": "#%%\n"
    }
   },
   "outputs": [],
   "source": [
    "# Fit LDA\n",
    "# solver='svd', shrinkage=None, priors=None, n_components=None, store_covariance=False, tol=0.0001, covariance_estimator=None\n",
    "clf = LinearDiscriminantAnalysis()\n",
    "train_x_proj = clf.fit_transform(train_x, train_y)\n",
    "\n"
   ]
  },
  {
   "cell_type": "code",
   "execution_count": 22,
   "metadata": {
    "pycharm": {
     "name": "#%%\n"
    }
   },
   "outputs": [
    {
     "name": "stdout",
     "output_type": "stream",
     "text": [
      "Accuracy:  25.624999999999996\n"
     ]
    }
   ],
   "source": [
    "# Predict on test data\n",
    "predictions = clf.predict(test_x)\n",
    "accuracy = clf.score(test_x, test_y) \n",
    "print(\"Accuracy: \", accuracy*100)"
   ]
  },
  {
   "cell_type": "code",
   "execution_count": 23,
   "metadata": {
    "pycharm": {
     "name": "#%%\n"
    }
   },
   "outputs": [
    {
     "data": {
      "text/plain": [
       "array([3, 2, 1, 0, 0, 3, 1, 3, 3, 2, 3, 0, 1, 1, 0, 3, 2, 2, 3, 0, 2, 0,\n",
       "       1, 2, 3, 1, 3, 1, 0, 0, 1, 1, 3, 1, 0, 2, 2, 2, 2, 0, 0, 1, 1, 2,\n",
       "       1, 3, 3, 0, 2, 0, 2, 1, 1, 2, 3, 0, 3, 1, 0, 2, 3, 0, 0, 0, 1, 0,\n",
       "       3, 2, 2, 3, 3, 2, 3, 1, 1, 2, 1, 0, 2, 3, 0, 2, 3, 3, 1, 3, 0, 2,\n",
       "       2, 1, 2, 2, 3, 2, 0, 3, 1, 0, 1, 2, 0, 1, 1, 3, 0, 2, 0, 3, 3, 3,\n",
       "       0, 0, 1, 2, 1, 0, 2, 1, 3, 1, 2, 3, 2, 1, 2, 1, 2, 3, 0, 0, 1, 3,\n",
       "       3, 1, 3, 0, 1, 2, 2, 1, 0, 0, 3, 2, 1, 0, 1, 1, 0, 0, 3, 0, 3, 2,\n",
       "       0, 1, 2, 2, 3, 3])"
      ]
     },
     "execution_count": 23,
     "metadata": {},
     "output_type": "execute_result"
    }
   ],
   "source": [
    "# Tranform data to LDA space\n",
    "test_x_proj = clf.transform(test_x)\n",
    "test_x_proj.shape\n",
    "test_y"
   ]
  },
  {
   "cell_type": "code",
   "execution_count": 24,
   "metadata": {},
   "outputs": [
    {
     "data": {
      "text/plain": [
       "(-2.0, 2.0)"
      ]
     },
     "execution_count": 24,
     "metadata": {},
     "output_type": "execute_result"
    },
    {
     "data": {
      "image/png": "[encoded data removed]",
      "text/plain": [
       "<Figure size 432x288 with 1 Axes>"
      ]
     },
     "metadata": {
      "needs_background": "light"
     },
     "output_type": "display_data"
    }
   ],
   "source": [
    "# Visualize data in LDA Space\n",
    "\n",
    "ax = plt.axes(projection =\"3d\")\n",
    "for i in range(4):\n",
    "    data = test_x_proj[test_y == i, :]\n",
    "    ax.scatter3D(data[:,0], data[:,1], data[:,0], label=i)\n",
    "plt.title(\"simple 3D scatter plot\")\n",
    "#ax.view_init(30,45)\n",
    "ax.set_zlim([-2,3])\n",
    "ax.set_ylim([-3,2])\n",
    "ax.set_xlim([-2,2]) # there are some outliers which make it hard to see the giant clump unless you set axis limits\n",
    "# But the projected data isnt very easily separable anyways\n"
   ]
  },
  {
   "cell_type": "markdown",
   "metadata": {},
   "source": [
    "## Classify with SVM"
   ]
  },
  {
   "cell_type": "code",
   "execution_count": 29,
   "metadata": {},
   "outputs": [
    {
     "name": "stdout",
     "output_type": "stream",
     "text": [
      "Accuracy:  0.3125\n"
     ]
    }
   ],
   "source": [
    "from sklearn import svm\n",
    "import sklearn\n",
    "# The learning is very fast\n",
    "svm_clf = svm.SVC(C=.1, kernel=\"poly\", degree=2) # best run\n",
    "# svm_clf = svm.SVC(C=1, kernel=\"linear\")\n",
    "svm_clf.fit(train_x_proj, train_y)\n",
    "acc = svm_clf.score(test_x_proj, test_y)\n",
    "predictions = svm_clf.predict(test_x_proj)\n",
    "print(\"Accuracy: \", acc)"
   ]
  },
  {
   "cell_type": "code",
   "execution_count": 30,
   "metadata": {},
   "outputs": [
    {
     "data": {
      "text/plain": [
       "<sklearn.metrics._plot.confusion_matrix.ConfusionMatrixDisplay at 0x7f9470a91e80>"
      ]
     },
     "execution_count": 30,
     "metadata": {},
     "output_type": "execute_result"
    },
    {
     "data": {
      "image/png": "[encoded data removed]",
      "text/plain": [
       "<Figure size 432x288 with 2 Axes>"
      ]
     },
     "metadata": {
      "needs_background": "light"
     },
     "output_type": "display_data"
    }
   ],
   "source": [
    "sklearn.metrics.ConfusionMatrixDisplay.from_predictions(test_y, predictions,display_labels=['up', 'down', 'right', 'left'])\n",
    "\n"
   ]
  },
  {
   "cell_type": "code",
   "execution_count": null,
   "metadata": {},
   "outputs": [],
   "source": []
  }
 ],
 "metadata": {
  "kernelspec": {
   "display_name": "Python 3 (ipykernel)",
   "language": "python",
   "name": "python3"
  },
  "language_info": {
   "codemirror_mode": {
    "name": "ipython",
    "version": 3
   },
   "file_extension": ".py",
   "mimetype": "text/x-python",
   "name": "python",
   "nbconvert_exporter": "python",
   "pygments_lexer": "ipython3",
   "version": "3.8.12"
  }
 },
 "nbformat": 4,
 "nbformat_minor": 1
}
