{
 "cells": [
  {
   "cell_type": "code",
   "execution_count": 1,
   "id": "67d93716",
   "metadata": {},
   "outputs": [],
   "source": [
    "import numpy as np\n",
    "import matplotlib.pyplot as plt\n",
    "import mne\n",
    "import pickle\n",
    "import torch \n",
    "import torch.nn as nn\n",
    "from torch.utils.data import DataLoader, Subset, TensorDataset, RandomSampler"
   ]
  },
  {
   "cell_type": "code",
   "execution_count": 2,
   "id": "b5fa9bde",
   "metadata": {},
   "outputs": [],
   "source": [
    "root = '/home/deeksha/Documents/MLSP/derivatives/'\n"
   ]
  },
  {
   "cell_type": "markdown",
   "id": "7fc6030a",
   "metadata": {},
   "source": [
    "## Data Loader strategy\n",
    "\n",
    "### 1. Load all data of a subject in session 1 and session 2 (dont load 3, because noisy)\n",
    "### 2. select only inner speech Y[:, 2] ==1\n",
    "### 3. Stack all subjects recordings along batch axis = 0 (n_recording * n_subjects, 128, 1153)"
   ]
  },
  {
   "cell_type": "code",
   "execution_count": 3,
   "id": "828cdcd2",
   "metadata": {},
   "outputs": [],
   "source": [
    "class get_loader(nn.Module):\n",
    "    \n",
    "    def __init__(self, root_dir, n_sess = 2, mode = 1):\n",
    "        '''\n",
    "        root_dir: the main folder with subject-wise subfolders\n",
    "        n_sess:   number of sessions to consider. 1/2/3\n",
    "        mode:     0-pronounced \n",
    "                  1-inner \n",
    "                  2-visualized\n",
    "                  \n",
    "        '''\n",
    "        super(get_loader, self).__init__()\n",
    "        self.root_dir = root_dir\n",
    "        self.n_sess = n_sess\n",
    "        self.mode = mode #condition\n",
    "        \n",
    "    def load_single_subject(self, sub_idx):\n",
    "        '''\n",
    "        sub_idx: 1, 2, ..... integers\n",
    "        '''\n",
    "        data = dict()\n",
    "        y = dict()\n",
    "        N_B_arr = np.arange(1, self.n_sess+1, 1)\n",
    "        N_S = sub_idx\n",
    "        print(N_S)\n",
    "        for N_B in N_B_arr:\n",
    "            \n",
    "            # name correction if N_Subj is less than 10\n",
    "            if N_S<10:\n",
    "                Num_s='sub-0'+str(N_S)\n",
    "            else:\n",
    "                Num_s='sub-'+str(N_S)\n",
    "            \n",
    "            file_name = root  + Num_s + '/ses-0'+ str(N_B) + '/' +Num_s+'_ses-0'+str(N_B)+'_events.dat'\n",
    "            y[N_B] = np.load(file_name,allow_pickle=True)\n",
    "        \n",
    "        \n",
    "            #  load data and events\n",
    "            file_name = root  + Num_s + '/ses-0'+ str(N_B) + '/' +Num_s+'_ses-0'+str(N_B)+'_eeg-epo.fif'\n",
    "            X= mne.read_epochs(file_name,verbose='WARNING')\n",
    "            data[N_B]= X._data    \n",
    "         \n",
    "        #stack the sessions\n",
    "        X = data.get(1)\n",
    "        Y = y.get(1)\n",
    "        for i in range(2, self.n_sess+1, 1):\n",
    "            X = np.vstack((X, data.get(i)))\n",
    "            Y = np.vstack((Y, y.get(i)))\n",
    "        \n",
    "        #select the recordings from required mode only\n",
    "        X_mode = X[Y[:,2] == self.mode]\n",
    "        Y_mode = Y[Y[:, 2] == self.mode]\n",
    "        \n",
    "        return X_mode, Y_mode\n",
    "    \n",
    "    def load_multiple_subjects(self, subjects):\n",
    "        '''\n",
    "        Load all subjects required and stack them into single array (n_rec*n_sub, 128, 1153)\n",
    "        '''\n",
    "        X_t, Y_t = [], []\n",
    "        for idx in subjects:\n",
    "            Xi, Yi = self.load_single_subject(idx)\n",
    "            X_t.append(Xi)\n",
    "            Y_t.append(Yi)\n",
    "    \n",
    "        return np.vstack(X_t), np.vstack(Y_t)\n",
    "    \n",
    "    def forward(self, subjects, batch_size = 1):\n",
    "        '''\n",
    "        subjects: list of subject indices to load data from\n",
    "        '''\n",
    "        X, Y = self.load_multiple_subjects(subjects)\n",
    "        X = torch.tensor(X)\n",
    "        Y = torch.tensor(Y)\n",
    "        \n",
    "        train_data = TensorDataset(X, Y)\n",
    "        train_sampler = RandomSampler(X)\n",
    "        train_dataloader = DataLoader(X, sampler=train_sampler, batch_size=batch_size)\n",
    "                  \n",
    "        # can add test/validation loader too \n",
    "        \n",
    "        return train_dataloader"
   ]
  },
  {
   "cell_type": "markdown",
   "id": "bafd6a4f",
   "metadata": {},
   "source": [
    "## Clustering"
   ]
  },
  {
   "cell_type": "code",
   "execution_count": 4,
   "id": "41563986",
   "metadata": {},
   "outputs": [],
   "source": [
    "import sklearn\n",
    "from sklearn.preprocessing import StandardScaler\n",
    "from sklearn.cluster import KMeans\n",
    "from sklearn.decomposition import PCA"
   ]
  },
  {
   "cell_type": "code",
   "execution_count": 5,
   "id": "09561973",
   "metadata": {
    "scrolled": true
   },
   "outputs": [],
   "source": [
    "creater = get_loader(root, mode=1)\n",
    "#loader = creater([1, 2])\n",
    "#test_loader = creater([3, 4])"
   ]
  },
  {
   "cell_type": "code",
   "execution_count": 6,
   "id": "e6daaecb",
   "metadata": {},
   "outputs": [
    {
     "name": "stdout",
     "output_type": "stream",
     "text": [
      "1\n",
      "2\n",
      "3\n",
      "4\n",
      "5\n",
      "6\n",
      "7\n",
      "8\n"
     ]
    }
   ],
   "source": [
    "X, yn = creater.load_multiple_subjects([1, 2, 3, 4, 5, 6, 7, 8]) "
   ]
  },
  {
   "cell_type": "code",
   "execution_count": 7,
   "id": "a1950be0",
   "metadata": {},
   "outputs": [
    {
     "name": "stdout",
     "output_type": "stream",
     "text": [
      "(1240, 147584)\n"
     ]
    }
   ],
   "source": [
    "X = X.reshape(-1, 128*1153)\n",
    "y = yn[:, 1]\n",
    "\n",
    "print(X.shape)"
   ]
  },
  {
   "cell_type": "markdown",
   "id": "e12db465",
   "metadata": {},
   "source": [
    "### PCA transform"
   ]
  },
  {
   "cell_type": "code",
   "execution_count": 8,
   "id": "b6c12ec4",
   "metadata": {},
   "outputs": [
    {
     "data": {
      "text/plain": [
       "PCA(n_components=0.98)"
      ]
     },
     "execution_count": 8,
     "metadata": {},
     "output_type": "execute_result"
    }
   ],
   "source": [
    "var = 0.98\n",
    "pca = PCA(var)\n",
    "pca.fit(X)"
   ]
  },
  {
   "cell_type": "code",
   "execution_count": 9,
   "id": "621222e9",
   "metadata": {},
   "outputs": [
    {
     "name": "stdout",
     "output_type": "stream",
     "text": [
      "Number of components before PCA  = 147584\n",
      "Number of components after PCA 0.98 = 1038\n"
     ]
    }
   ],
   "source": [
    "print(\"Number of components before PCA  = \" + str(X.shape[1]))\n",
    "print(\"Number of components after PCA 0.98 = \" + str(pca.n_components_))"
   ]
  },
  {
   "cell_type": "code",
   "execution_count": 10,
   "id": "81804974",
   "metadata": {},
   "outputs": [
    {
     "name": "stdout",
     "output_type": "stream",
     "text": [
      "Dimension of our data after PCA = (1240, 1038)\n"
     ]
    }
   ],
   "source": [
    "Clus_dataSet = pca.transform(X)\n",
    "print(\"Dimension of our data after PCA = \" + str(Clus_dataSet.shape))\n"
   ]
  },
  {
   "cell_type": "markdown",
   "id": "e32a7fc7",
   "metadata": {},
   "source": [
    "### Kmeans clustering"
   ]
  },
  {
   "cell_type": "code",
   "execution_count": 11,
   "id": "b2532d8d",
   "metadata": {},
   "outputs": [],
   "source": [
    "del X"
   ]
  },
  {
   "cell_type": "code",
   "execution_count": 44,
   "id": "8d2084e3",
   "metadata": {},
   "outputs": [],
   "source": [
    "np.random.seed(33)\n",
    "k_means = KMeans(init = \"k-means++\", n_clusters = 4, n_init = 10)\n",
    "k_means.fit(Clus_dataSet)\n",
    "k_means_labels = k_means.predict(Clus_dataSet)\n"
   ]
  },
  {
   "cell_type": "markdown",
   "id": "73c4c11d",
   "metadata": {},
   "source": [
    "### Visualise"
   ]
  },
  {
   "cell_type": "code",
   "execution_count": 45,
   "id": "b57595cf",
   "metadata": {},
   "outputs": [
    {
     "data": {
      "image/png": "[encoded data removed]",
      "text/plain": [
       "<Figure size 720x720 with 4 Axes>"
      ]
     },
     "metadata": {
      "needs_background": "light"
     },
     "output_type": "display_data"
    }
   ],
   "source": [
    "G = len(np.unique(k_means_labels)) #Number of labels\n",
    "#2D matrix  for an array of indexes of the given label\n",
    "cluster_index= [[] for i in range(G)]\n",
    "for i, label in enumerate(k_means_labels,0):\n",
    "    for n in range(G):\n",
    "        if label == n:\n",
    "            cluster_index[n].append(i)\n",
    "        else:\n",
    "            continue\n",
    "\n",
    "def counter(cluster):\n",
    "    unique, counts = np.unique(cluster, return_counts=True)\n",
    "    label_index = dict(zip(unique, counts))\n",
    "    return label_index\n",
    "\n",
    "Y_clust = [[] for i in range(G)]\n",
    "for n in range(G):\n",
    "    Y_clust[n] = y[cluster_index[n]] #Y_clust[0] contains array of \"correct\" category from y_train for the cluster_index[0]\n",
    "    assert(len(Y_clust[n]) == len(cluster_index[n])) \n",
    "    \n",
    "    \n",
    "label_count= [[] for i in range(G)]\n",
    "for n in range(G):\n",
    "    label_count[n] = counter(Y_clust[n])\n",
    "\n",
    "class_names = {0:'Up', 1:'Down',2: 'Right',3: 'Left'} #Dictionary of class names\n",
    "\n",
    "#A function to plot a bar graph for visualising the number of items of certain category in a cluster\n",
    "def plotter(label_dict):\n",
    "    plt.bar(range(len(label_dict)), list(label_dict.values()), align='center')\n",
    "    a = []\n",
    "    for i in [*label_dict]: a.append(class_names[i])\n",
    "    plt.xticks(range(len(label_dict)), list(a), rotation=45, rotation_mode='anchor')\n",
    "    \n",
    "plt.figure(figsize=(10,10))\n",
    "for i in range (1,5):\n",
    "    plt.subplot(2, 2, i)\n",
    "    plotter(label_count[i-1]) \n",
    "    plt.title(\"Cluster\" + str(i-1))"
   ]
  },
  {
   "cell_type": "markdown",
   "id": "433aa931",
   "metadata": {},
   "source": [
    "## "
   ]
  },
  {
   "cell_type": "code",
   "execution_count": null,
   "id": "468e0de1",
   "metadata": {},
   "outputs": [],
   "source": [
    "#!pip install chart_studio \n",
    "#!pip install plotly\n",
    "#!pip install nbformat\n",
    "#!pip install plotly_express==0.4.0"
   ]
  },
  {
   "cell_type": "code",
   "execution_count": null,
   "id": "6a4507be",
   "metadata": {},
   "outputs": [],
   "source": [
    "import plotly as py\n",
    "import plotly.graph_objs as go\n",
    "import plotly.express as px\n",
    "#3D Plotly Visualization of Clusters using go\n",
    "layout = go.Layout(\n",
    "    title='<b>Cluster Visualisation</b>',\n",
    "    yaxis=dict(\n",
    "        title='<i>Y</i>'\n",
    "    ),\n",
    "    xaxis=dict(\n",
    "        title='<i>X</i>'\n",
    "    )\n",
    ")\n",
    "colors = ['magenta','yellow','teal','black']\n",
    "trace = [ go.Scatter3d() for _ in range(5)]\n",
    "for i in range(0,4):\n",
    "    my_members = (k_means_labels == i)\n",
    "    index = [h for h, g in enumerate(my_members) if g]\n",
    "    trace[i] = go.Scatter3d(\n",
    "            x=Clus_dataSet[my_members, 0],# 0 is a component among the 420 components. Feel free to change it\n",
    "            y=Clus_dataSet[my_members, 1],# 1 is a component among the 420 components. Feel free to change it\n",
    "            z=Clus_dataSet[my_members, 2],# 2 is a component among the 420 components. Feel free to change it\n",
    "            mode='markers',\n",
    "            marker = dict(size = 2,color = colors[i]),\n",
    "            hovertext=index,\n",
    "            name='Cluster'+str(i),\n",
    "   \n",
    "            )\n",
    "fig = go.Figure(data=[trace[0],trace[1],trace[2],trace[3]])\n",
    "py.offline.iplot(fig)\n"
   ]
  },
  {
   "cell_type": "markdown",
   "id": "51c9a2e1",
   "metadata": {},
   "source": [
    "# K medoids"
   ]
  },
  {
   "cell_type": "code",
   "execution_count": 46,
   "id": "4b7d42fb",
   "metadata": {},
   "outputs": [],
   "source": [
    "from sklearn_extra.cluster import KMedoids"
   ]
  },
  {
   "cell_type": "code",
   "execution_count": 57,
   "id": "dee4915d",
   "metadata": {},
   "outputs": [],
   "source": [
    "np.random.seed(42)\n",
    "k_meds= KMedoids(init = \"k-medoids++\", n_clusters = 4, method = 'pam', metric = 'l1', max_iter = 25)\n",
    "k_meds.fit(Clus_dataSet)\n",
    "k_meds_labels = k_meds.predict(Clus_dataSet)\n"
   ]
  },
  {
   "cell_type": "code",
   "execution_count": 58,
   "id": "353e983b",
   "metadata": {},
   "outputs": [
    {
     "data": {
      "image/png": "[encoded data removed]",
      "text/plain": [
       "<Figure size 1080x1080 with 4 Axes>"
      ]
     },
     "metadata": {
      "needs_background": "light"
     },
     "output_type": "display_data"
    }
   ],
   "source": [
    "G = len(np.unique(k_meds_labels)) #Number of labels\n",
    "#2D matrix  for an array of indexes of the given label\n",
    "cluster_index= [[] for i in range(G)]\n",
    "for i, label in enumerate(k_meds_labels,0):\n",
    "    for n in range(G):\n",
    "        if label == n:\n",
    "            cluster_index[n].append(i)\n",
    "        else:\n",
    "            continue\n",
    "\n",
    "def counter(cluster):\n",
    "    unique, counts = np.unique(cluster, return_counts=True)\n",
    "    label_index = dict(zip(unique, counts))\n",
    "    return label_index\n",
    "\n",
    "Y_clust = [[] for i in range(G)]\n",
    "for n in range(G):\n",
    "    Y_clust[n] = y[cluster_index[n]] #Y_clust[0] contains array of \"correct\" category from y_train for the cluster_index[0]\n",
    "    assert(len(Y_clust[n]) == len(cluster_index[n])) \n",
    "    \n",
    "    \n",
    "label_count= [[] for i in range(G)]\n",
    "for n in range(G):\n",
    "    label_count[n] = counter(Y_clust[n])\n",
    "\n",
    "class_names = {0:'Up', 1:'Down',2: 'Right',3: 'Left'} #Dictionary of class names\n",
    "\n",
    "#A function to plot a bar graph for visualising the number of items of certain category in a cluster\n",
    "def plotter(label_dict):\n",
    "    plt.bar(range(len(label_dict)), list(label_dict.values()), align='center')\n",
    "    a = []\n",
    "    for i in [*label_dict]: a.append(class_names[i])\n",
    "    plt.xticks(range(len(label_dict)), list(a), rotation=45, rotation_mode='anchor')\n",
    "    \n",
    "plt.figure(figsize=(15,15))\n",
    "for i in range (1,5):\n",
    "    plt.subplot(2, 2, i)\n",
    "    plotter(label_count[i-1]) \n",
    "    plt.title(\"Cluster\" + str(i-1))"
   ]
  },
  {
   "cell_type": "code",
   "execution_count": null,
   "id": "e31093e4",
   "metadata": {},
   "outputs": [],
   "source": []
  }
 ],
 "metadata": {
  "kernelspec": {
   "display_name": "Python [conda env:mlsp]",
   "language": "python",
   "name": "conda-env-mlsp-py"
  },
  "language_info": {
   "codemirror_mode": {
    "name": "ipython",
    "version": 3
   },
   "file_extension": ".py",
   "mimetype": "text/x-python",
   "name": "python",
   "nbconvert_exporter": "python",
   "pygments_lexer": "ipython3",
   "version": "3.7.11"
  }
 },
 "nbformat": 4,
 "nbformat_minor": 5
}
